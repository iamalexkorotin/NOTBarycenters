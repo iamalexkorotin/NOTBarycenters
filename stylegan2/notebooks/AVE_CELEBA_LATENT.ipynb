{
 "cells": [
  {
   "cell_type": "markdown",
   "id": "230f5117",
   "metadata": {},
   "source": [
    "# Ave, CELEBA! For Latent space with deterministic maps"
   ]
  },
  {
   "cell_type": "code",
   "execution_count": null,
   "id": "279a2488",
   "metadata": {},
   "outputs": [],
   "source": [
    "import torch\n",
    "import torchvision\n",
    "\n",
    "import numpy as np\n",
    "import matplotlib.pyplot as plt\n",
    "%matplotlib inline\n",
    "\n",
    "from tqdm import tqdm\n",
    "import itertools\n",
    "import wandb\n",
    "import os\n",
    "\n",
    "import sys\n",
    "sys.path.append(\"../../\")\n",
    "from src.utils import Config, weights_init_D, freeze, unfreeze, normalize_out_to_0_1\n",
    "from src.data import DatasetSampler\n",
    "from src.models import ResNet_D, UNet, linear_model\n",
    "from src.train import train\n",
    "from src.cost import strong_cost\n",
    "\n",
    "# for generator\n",
    "import sys \n",
    "sys.path.append(\"../../stylegan2/\")\n",
    "import dnnlib\n",
    "import legacy\n",
    "\n",
    "import warnings\n",
    "warnings.filterwarnings('ignore')\n",
    "\n",
    "%load_ext autoreload\n",
    "%autoreload 2"
   ]
  },
  {
   "cell_type": "markdown",
   "id": "45665e6f",
   "metadata": {},
   "source": [
    "## 1. Config"
   ]
  },
  {
   "cell_type": "code",
   "execution_count": null,
   "id": "b63cee8e",
   "metadata": {
    "tags": [
     "parameters"
    ]
   },
   "outputs": [],
   "source": [
    "BATCH_SIZE = 64\n",
    "NUM_EPOCHS = 1\n",
    "INNER_ITERATIONS = 10\n",
    "GPU_DEVICE = 0\n",
    "FLAG_LATENT = True\n",
    "FLAG_LATENT_CRITIC = False\n",
    "LR_MAP = 1e-4\n",
    "LR_POTENTIAL = 1e-4\n",
    "CHI = False\n",
    "SPHERE = True"
   ]
  },
  {
   "cell_type": "code",
   "execution_count": null,
   "id": "ee7a81b8",
   "metadata": {},
   "outputs": [],
   "source": [
    "CONFIG = Config()\n",
    "\n",
    "CONFIG.FLAG_LATENT =  FLAG_LATENT\n",
    "CONFIG.FLAG_LATENT_CRITIC = FLAG_LATENT_CRITIC \n",
    "CONFIG.NC_LATENT = 1\n",
    "CONFIG.LATENT_SIZE = 512\n",
    "CONFIG.GENERATOR_PATH =  \"../../SG2_ckpt/ave_celeba.pkl\"\n",
    "CONFIG.N_LATENT_RESNET=512\n",
    "CONFIG.CHI_PROJECTION = CHI\n",
    "CONFIG.SPHERE_PROJECTION = SPHERE\n",
    "CONFIG.RESNET_D_ENCODER = False\n",
    "\n",
    "CONFIG.K = 3# amount of distributions\n",
    "CONFIG.IMG_SIZE = 64\n",
    "CONFIG.NC=3\n",
    "CONFIG.BASE_FACTOR = 64\n",
    "\n",
    "\n",
    "CONFIG.LR_MAP = LR_MAP\n",
    "CONFIG.LR_POTENTIAL = LR_POTENTIAL\n",
    "CONFIG.CLIP_GRADS_NORM = False\n",
    "CONFIG.BETAS = (0.2, 0.99)\n",
    "\n",
    "CONFIG.HIDDEN_SIZE = [max(2*CONFIG.N_LATENT_RESNET,128),\n",
    "                      max(2*CONFIG.N_LATENT_RESNET,128)] \n",
    "\n",
    "CONFIG.CLASSES = [0,1,2]\n",
    "CONFIG.DATASET_PATH ='../../data/ave_celeba_green_v2/' \n",
    "CONFIG.DATASET = 'ave_celeba'\n",
    "\n",
    "CONFIG.LAMBDAS = [0.25,0.5,0.25]\n",
    "CONFIG.DIM = 3*64*64\n",
    "CONFIG.BATCH_SIZE = BATCH_SIZE\n",
    "CONFIG.NUM_EPOCHS = NUM_EPOCHS\n",
    "CONFIG.INNER_ITERATIONS = INNER_ITERATIONS\n",
    "\n",
    "CONFIG.GPU_DEVICE = GPU_DEVICE\n",
    "assert torch.cuda.is_available()\n",
    "CONFIG.DEVICE = f'cuda:{CONFIG.GPU_DEVICE}'"
   ]
  },
  {
   "cell_type": "markdown",
   "id": "b1762a70",
   "metadata": {},
   "source": [
    "## 2. Generator"
   ]
  },
  {
   "cell_type": "code",
   "execution_count": null,
   "id": "c63e19bf",
   "metadata": {},
   "outputs": [],
   "source": [
    "if CONFIG.FLAG_LATENT:\n",
    "    with dnnlib.util.open_url(CONFIG.GENERATOR_PATH) as f:\n",
    "        G =  legacy.load_network_pkl(f)['G_ema'].to(CONFIG.DEVICE)"
   ]
  },
  {
   "cell_type": "markdown",
   "id": "66587af9",
   "metadata": {},
   "source": [
    "## 3. Potential and maps"
   ]
  },
  {
   "cell_type": "markdown",
   "id": "9b76e8d0",
   "metadata": {},
   "source": [
    "### 3.1 Potentials"
   ]
  },
  {
   "cell_type": "code",
   "execution_count": null,
   "id": "c60ac290",
   "metadata": {},
   "outputs": [],
   "source": [
    "if CONFIG.K == 2:\n",
    "    \n",
    "    f = ResNet_D(size=CONFIG.IMG_SIZE,\n",
    "              nc=CONFIG.NC,\n",
    "              nfilter=64, \n",
    "              nfilter_max=512, \n",
    "              res_ratio=0.1,bn_flag=False,pn_flag=False).to(CONFIG.DEVICE)\n",
    "    \n",
    "    weights_init_D(f)\n",
    "    nets_for_pot = [f]\n",
    "     \n",
    "    \n",
    "    nets_for_pot_opt = torch.optim.Adam( nets_for_pot[0].parameters() ,\n",
    "                               CONFIG.LR_POTENTIAL, betas=CONFIG.BETAS)\n",
    "                   \n",
    "else: \n",
    "    \n",
    "    if CONFIG.FLAG_LATENT_CRITIC:\n",
    "        \n",
    "        nets_for_pot = [ linear_model(CONFIG.LATENT_SIZE, CONFIG.HIDDEN_SIZE, 1).to(CONFIG.DEVICE)\n",
    "                        for k in range(CONFIG.K)   \n",
    "        ]\n",
    "        \n",
    "    else:\n",
    "        nets_for_pot = [ResNet_D(size=CONFIG.IMG_SIZE,\n",
    "                  nc=CONFIG.NC,\n",
    "                  nfilter=64, \n",
    "                  nfilter_max=512, \n",
    "                  res_ratio=0.1,n_output=1,bn_flag=False,pn_flag=False).to(CONFIG.DEVICE)\n",
    "                for i in range(CONFIG.K)]\n",
    "\n",
    "        for f in nets_for_pot: \n",
    "            weights_init_D(f)\n",
    "    \n",
    "    param_nets = [net.parameters() for net in nets_for_pot]\n",
    "    nets_for_pot_opt = torch.optim.Adam(itertools.chain(*param_nets),\n",
    "                               CONFIG.LR_POTENTIAL, betas=CONFIG.BETAS)\n",
    " "
   ]
  },
  {
   "cell_type": "markdown",
   "id": "e66d2aa4",
   "metadata": {},
   "source": [
    "### 3.2 maps"
   ]
  },
  {
   "cell_type": "code",
   "execution_count": null,
   "id": "e850c01c",
   "metadata": {},
   "outputs": [],
   "source": [
    "if CONFIG.FLAG_LATENT:\n",
    "    \n",
    " \n",
    "    maps = [ResNet_D(size=CONFIG.IMG_SIZE,\n",
    "              nc=CONFIG.NC,\n",
    "              nfilter=64, \n",
    "              nfilter_max=512, \n",
    "              res_ratio=0.1,n_output=CONFIG.N_LATENT_RESNET,bn_flag=True,pn_flag=True).to(CONFIG.DEVICE) for i in range(CONFIG.K)]\n",
    "    \n",
    "    for k in range(CONFIG.K):\n",
    "        weights_init_D(maps[k])\n",
    "else:\n",
    "    \n",
    "    maps = [UNet(n_channels=CONFIG.NC, n_classes=CONFIG.NC,\n",
    "                 base_factor=48 , bilinear=True).to(CONFIG.DEVICE) for i in range(CONFIG.K)]\n",
    "\n",
    "param_maps = [mp.parameters() for mp in maps]\n",
    "maps_opt = torch.optim.Adam(itertools.chain(*param_maps),\n",
    "                               CONFIG.LR_MAP, betas=CONFIG.BETAS)"
   ]
  },
  {
   "cell_type": "markdown",
   "id": "338838e1",
   "metadata": {},
   "source": [
    "## 4. Data Samplers"
   ]
  },
  {
   "cell_type": "code",
   "execution_count": null,
   "id": "fdbe8ea7",
   "metadata": {},
   "outputs": [],
   "source": [
    "transform = torchvision.transforms.Compose([\n",
    "    torchvision.transforms.Resize(CONFIG.IMG_SIZE),\n",
    "    torchvision.transforms.ToTensor(),\n",
    "    torchvision.transforms.Lambda(lambda x: torch.clip(x,0,1))\n",
    "])\n",
    "\n",
    "data_samplers=[]\n",
    "for k in tqdm(range(CONFIG.K)):\n",
    "    dataset = torchvision.datasets.ImageFolder(os.path.join(CONFIG.DATASET_PATH,f\"ave_celeba_{k}/\"), transform=transform)\n",
    "    data_samplers.append(DatasetSampler(dataset, flag_label=True, batch_size=256 ,num_workers=40))\n",
    "    \n",
    "    "
   ]
  },
  {
   "cell_type": "markdown",
   "id": "5a224210",
   "metadata": {},
   "source": [
    "## 5. WandB"
   ]
  },
  {
   "cell_type": "code",
   "execution_count": null,
   "id": "554cf59e",
   "metadata": {},
   "outputs": [],
   "source": [
    "name_exp = f\"LATENT_BS_{BATCH_SIZE}_INNER_{INNER_ITERATIONS}\"\n",
    "CONFIG.NAME_EXP = name_exp"
   ]
  },
  {
   "cell_type": "code",
   "execution_count": null,
   "id": "a653907d",
   "metadata": {
    "scrolled": true
   },
   "outputs": [],
   "source": [
    "wandb.init(project=\"BNOT\" ,\n",
    "           name=name_exp,\n",
    "           config=CONFIG)"
   ]
  },
  {
   "cell_type": "markdown",
   "id": "4743fc18",
   "metadata": {},
   "source": [
    "## 5. Train"
   ]
  },
  {
   "cell_type": "code",
   "execution_count": null,
   "id": "363e8d65",
   "metadata": {
    "scrolled": true
   },
   "outputs": [],
   "source": [
    "train(nets_for_pot, \n",
    "          maps,\n",
    "          nets_for_pot_opt,\n",
    "          maps_opt,\n",
    "          data_samplers,\n",
    "          G,\n",
    "          CONFIG)"
   ]
  },
  {
   "cell_type": "code",
   "execution_count": null,
   "id": "b901fdba",
   "metadata": {},
   "outputs": [],
   "source": []
  }
 ],
 "metadata": {
  "celltoolbar": "Tags",
  "kernelspec": {
   "display_name": "Python 3",
   "language": "python",
   "name": "python3"
  },
  "language_info": {
   "codemirror_mode": {
    "name": "ipython",
    "version": 3
   },
   "file_extension": ".py",
   "mimetype": "text/x-python",
   "name": "python",
   "nbconvert_exporter": "python",
   "pygments_lexer": "ipython3",
   "version": "3.8.5"
  }
 },
 "nbformat": 4,
 "nbformat_minor": 5
}
