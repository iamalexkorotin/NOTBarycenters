{
 "cells": [
  {
   "cell_type": "markdown",
   "id": "e2bdd49b",
   "metadata": {},
   "source": [
    "# Ave, CELEBA! Experiments with L2 cost"
   ]
  },
  {
   "cell_type": "code",
   "execution_count": 1,
   "id": "b40dc78b",
   "metadata": {},
   "outputs": [],
   "source": [
    "import torch\n",
    "import torchvision\n",
    "\n",
    "import numpy as np\n",
    "import matplotlib.pyplot as plt\n",
    "%matplotlib inline\n",
    "\n",
    "from tqdm import tqdm\n",
    "import itertools\n",
    "import wandb\n",
    "import os\n",
    "import sys\n",
    "\n",
    "sys.path.append(\"../../\")\n",
    "from src.utils import Config, weights_init_D, freeze, unfreeze\n",
    "from src.data import DatasetSampler\n",
    "from src.models import ResNet_D, UNet\n",
    "from src.train import train\n",
    "from src.cost import strong_cost\n",
    "\n",
    "%load_ext autoreload\n",
    "%autoreload 2"
   ]
  },
  {
   "cell_type": "markdown",
   "id": "ba226e03",
   "metadata": {},
   "source": [
    "## 1. Config"
   ]
  },
  {
   "cell_type": "code",
   "execution_count": null,
   "id": "0a8b3a33",
   "metadata": {
    "tags": [
     "parameters"
    ]
   },
   "outputs": [],
   "source": [
    "BATCH_SIZE = 128\n",
    "NUM_EPOCHS = 100\n",
    "INNER_ITERATIONS = 10\n",
    "LR = 1e-4\n",
    "GPU_DEVICE = 0"
   ]
  },
  {
   "cell_type": "code",
   "execution_count": null,
   "id": "7d3a167a",
   "metadata": {},
   "outputs": [],
   "source": [
    "CONFIG = Config()\n",
    "\n",
    "CONFIG.FLAG_LATENT = False\n",
    "CONFIG.FLAG_LATENT_CRITIC = False\n",
    "CONFIG.DIM = 3*64*64\n",
    "CONFIG.CLASSES = [0,1,2]\n",
    "CONFIG.K = 3# amount of distributions\n",
    "CONFIG.LAMBDAS = [0.25,0.5,0.25]\n",
    "CONFIG.IMG_SIZE = 64\n",
    "CONFIG.NC=3\n",
    "CONFIG.DATASET_PATH ='../../data/ave_celeba_green_v2/' \n",
    "CONFIG.DATASET = 'ave_celeba'\n",
    "\n",
    "CONFIG.LR = LR\n",
    "CONFIG.CLIP_GRADS_NORM = False\n",
    "CONFIG.BETAS = (0.2, 0.99)\n",
    "CONFIG.BATCH_SIZE = BATCH_SIZE\n",
    "CONFIG.NUM_EPOCHS = NUM_EPOCHS\n",
    "CONFIG.INNER_ITERATIONS = INNER_ITERATIONS\n",
    "\n",
    "CONFIG.GPU_DEVICE = GPU_DEVICE\n",
    "assert torch.cuda.is_available()\n",
    "CONFIG.DEVICE = f'cuda:{CONFIG.GPU_DEVICE}'"
   ]
  },
  {
   "cell_type": "markdown",
   "id": "f19e3f51",
   "metadata": {},
   "source": [
    "## 2. Data samplers"
   ]
  },
  {
   "cell_type": "code",
   "execution_count": null,
   "id": "c68eab41",
   "metadata": {},
   "outputs": [],
   "source": [
    "transform = torchvision.transforms.Compose([\n",
    "    torchvision.transforms.Resize(CONFIG.IMG_SIZE),\n",
    "    torchvision.transforms.ToTensor(),\n",
    "    torchvision.transforms.Lambda(lambda x: torch.clip(x,0,1))\n",
    "])\n",
    "\n",
    "data_samplers=[]\n",
    "for k in tqdm(range(CONFIG.K)):\n",
    "    dataset = torchvision.datasets.ImageFolder(os.path.join(CONFIG.DATASET_PATH,f\"ave_celeba_{k}/\"), transform=transform)\n",
    "    data_samplers.append(DatasetSampler(dataset, flag_label=True, batch_size=256 ,num_workers=40))"
   ]
  },
  {
   "cell_type": "markdown",
   "id": "1cdbb0c0",
   "metadata": {},
   "source": [
    "## 3. Potential and maps"
   ]
  },
  {
   "cell_type": "code",
   "execution_count": null,
   "id": "19275f7a",
   "metadata": {},
   "outputs": [],
   "source": [
    "nets_for_pot = [ResNet_D(size=CONFIG.IMG_SIZE,\n",
    "          nc=CONFIG.NC,\n",
    "          nfilter=64, \n",
    "          nfilter_max=512, \n",
    "          res_ratio=0.1,n_output=1,\n",
    "        bn_flag=False, pn_flag=False).to(CONFIG.DEVICE)\n",
    "        for i in range(CONFIG.K)]\n",
    "\n",
    "for f in nets_for_pot: \n",
    "    weights_init_D(f)\n",
    "\n",
    "param_nets = [net.parameters() for net in nets_for_pot]\n",
    "nets_for_pot_opt = torch.optim.Adam(itertools.chain(*param_nets),\n",
    "                           CONFIG.LR, betas=CONFIG.BETAS)\n"
   ]
  },
  {
   "cell_type": "code",
   "execution_count": null,
   "id": "62e83ca9",
   "metadata": {},
   "outputs": [],
   "source": [
    "maps = [UNet(n_channels=CONFIG.NC, n_classes=CONFIG.NC,\n",
    "             base_factor=48 , bilinear=True).to(CONFIG.DEVICE) for i in range(CONFIG.K)]\n",
    "\n",
    "param_maps = [mp.parameters() for mp in maps]\n",
    "maps_opt = torch.optim.Adam(itertools.chain(*param_maps),\n",
    "                               CONFIG.LR, betas=CONFIG.BETAS)"
   ]
  },
  {
   "cell_type": "markdown",
   "id": "01c9c5e3",
   "metadata": {},
   "source": [
    "## 4. Train"
   ]
  },
  {
   "cell_type": "code",
   "execution_count": null,
   "id": "eded8a10",
   "metadata": {},
   "outputs": [],
   "source": [
    "generator=None"
   ]
  },
  {
   "cell_type": "code",
   "execution_count": null,
   "id": "0b5ccee6",
   "metadata": {},
   "outputs": [],
   "source": [
    "name_exp = f\"L2_SPACE_INN_{CONFIG.INNER_ITERATIONS}_LR_{CONFIG.LR}_BS_{CONFIG.BATCH_SIZE}\"\n",
    "CONFIG.NAME_EXP = name_exp"
   ]
  },
  {
   "cell_type": "code",
   "execution_count": null,
   "id": "236dd5db",
   "metadata": {
    "scrolled": true
   },
   "outputs": [],
   "source": [
    "wandb.init(project=\"BNOT\" ,\n",
    "           name=name_exp ,\n",
    "           config=CONFIG)"
   ]
  },
  {
   "cell_type": "code",
   "execution_count": null,
   "id": "5d3552ed",
   "metadata": {
    "scrolled": false
   },
   "outputs": [],
   "source": [
    "train(nets_for_pot, \n",
    "          maps,\n",
    "          nets_for_pot_opt,\n",
    "          maps_opt,\n",
    "          data_samplers,\n",
    "          generator,\n",
    "          CONFIG)"
   ]
  },
  {
   "cell_type": "code",
   "execution_count": null,
   "id": "2aedd800",
   "metadata": {},
   "outputs": [],
   "source": []
  },
  {
   "cell_type": "code",
   "execution_count": null,
   "id": "93a670a6",
   "metadata": {},
   "outputs": [],
   "source": []
  },
  {
   "cell_type": "code",
   "execution_count": null,
   "id": "e49ea2b2",
   "metadata": {},
   "outputs": [],
   "source": []
  },
  {
   "cell_type": "code",
   "execution_count": null,
   "id": "e2469fef",
   "metadata": {},
   "outputs": [],
   "source": []
  },
  {
   "cell_type": "code",
   "execution_count": null,
   "id": "c6666d36",
   "metadata": {},
   "outputs": [],
   "source": []
  }
 ],
 "metadata": {
  "celltoolbar": "Tags",
  "kernelspec": {
   "display_name": "Python 3",
   "language": "python",
   "name": "python3"
  },
  "language_info": {
   "codemirror_mode": {
    "name": "ipython",
    "version": 3
   },
   "file_extension": ".py",
   "mimetype": "text/x-python",
   "name": "python",
   "nbconvert_exporter": "python",
   "pygments_lexer": "ipython3",
   "version": "3.8.5"
  }
 },
 "nbformat": 4,
 "nbformat_minor": 5
}
